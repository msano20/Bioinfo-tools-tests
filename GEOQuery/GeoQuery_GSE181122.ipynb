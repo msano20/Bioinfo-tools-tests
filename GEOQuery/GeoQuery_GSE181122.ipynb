{
 "cells": [
  {
   "cell_type": "markdown",
   "id": "7f175d3c",
   "metadata": {},
   "source": [
    "## Generating Expression sets from GeoQuery\n",
    "\n",
    "**bold**\n",
    "dataset by Laloum T, Martín G, Duque P. of the Instituto Gulbenkian de Ciência"
   ]
  },
  {
   "cell_type": "code",
   "execution_count": 13,
   "id": "53cd1f16",
   "metadata": {
    "scrolled": true
   },
   "outputs": [],
   "source": [
    "library(BiocManager)\n",
    "library(GEOquery)\n",
    "library(pheatmap)\n",
    "dir <- (\"C:/Path/to/directory\")\n",
    "setwd(dir)"
   ]
  },
  {
   "cell_type": "markdown",
   "id": "3190fc14",
   "metadata": {},
   "source": [
    "Access soft/family files by specifying GEO accession code. I had to download the rpkm values and counts separately from the GEO accession site. "
   ]
  },
  {
   "cell_type": "code",
   "execution_count": 2,
   "id": "80df482e",
   "metadata": {},
   "outputs": [
    {
     "name": "stderr",
     "output_type": "stream",
     "text": [
      "Found 1 file(s)\n",
      "\n",
      "GSE181122_series_matrix.txt.gz\n",
      "\n",
      "Using locally cached version: C:/Users/misum/OneDrive/Desktop/single_cell_rna_seq_workshop/plant scrna test/GSE181122/GSE181122_series_matrix.txt.gz\n",
      "\n",
      "\u001b[1m\u001b[1mRows: \u001b[1m\u001b[22m\u001b[34m\u001b[34m0\u001b[34m\u001b[39m \u001b[1m\u001b[1mColumns: \u001b[1m\u001b[22m\u001b[34m\u001b[34m7\u001b[34m\u001b[39m\n",
      "\n",
      "\u001b[36m--\u001b[39m \u001b[1m\u001b[1mColumn specification\u001b[1m\u001b[22m \u001b[36m--------------------------------------------------------\u001b[39m\n",
      "\u001b[1mDelimiter:\u001b[22m \"\\t\"\n",
      "\u001b[31mchr\u001b[39m (7): ID_REF, GSM5487680, GSM5487681, GSM5487682, GSM5487683, GSM5487684,...\n",
      "\n",
      "\n",
      "\u001b[36mi\u001b[39m Use \u001b[30m\u001b[47m\u001b[30m\u001b[47m`spec()`\u001b[47m\u001b[30m\u001b[49m\u001b[39m to retrieve the full column specification for this data.\n",
      "\u001b[36mi\u001b[39m Specify the column types or set \u001b[30m\u001b[47m\u001b[30m\u001b[47m`show_col_types = FALSE`\u001b[47m\u001b[30m\u001b[49m\u001b[39m to quiet this message.\n",
      "\n",
      "Using locally cached version of GPL13222 found here:\n",
      "C:/Users/misum/OneDrive/Desktop/single_cell_rna_seq_workshop/plant scrna test/GSE181122/GPL13222.soft \n",
      "\n"
     ]
    }
   ],
   "source": [
    "gse = getGEO(\"GSE181122\", GSEMatrix = TRUE, destdir = dir)"
   ]
  },
  {
   "cell_type": "markdown",
   "id": "ae4b8b1b",
   "metadata": {},
   "source": [
    "We can view metadata and covariates through phenoData(). This set has six samples with consistant environmental conditions across all experimental and control sets, but differ in genotype. Half are WT Col-0 and the other half scl30a mutants. "
   ]
  },
  {
   "cell_type": "code",
   "execution_count": 3,
   "id": "7448f269",
   "metadata": {
    "scrolled": false
   },
   "outputs": [
    {
     "name": "stdout",
     "output_type": "stream",
     "text": [
      "                                      title geo_accession type\n",
      "GSM5487680       18 hours-old WT seeds rep1    GSM5487680  SRA\n",
      "GSM5487681       18 hours-old WT seeds rep2    GSM5487681  SRA\n",
      "GSM5487682       18 hours-old WT seeds rep3    GSM5487682  SRA\n",
      "GSM5487683 18 hours-old scl30a-1 seeds rep1    GSM5487683  SRA\n",
      "GSM5487684 18 hours-old scl30a-1 seeds rep2    GSM5487684  SRA\n",
      "GSM5487685 18 hours-old scl30a-1 seeds rep3    GSM5487685  SRA\n",
      "                   organism_ch1 characteristics_ch1.2\n",
      "GSM5487680 Arabidopsis thaliana       genotype: Col-0\n",
      "GSM5487681 Arabidopsis thaliana       genotype: Col-0\n",
      "GSM5487682 Arabidopsis thaliana       genotype: Col-0\n",
      "GSM5487683 Arabidopsis thaliana    genotype: scl30a-1\n",
      "GSM5487684 Arabidopsis thaliana    genotype: scl30a-1\n",
      "GSM5487685 Arabidopsis thaliana    genotype: scl30a-1\n"
     ]
    }
   ],
   "source": [
    "show(pData(phenoData(gse[[1]]))[, c(1,2,6,9,12)])"
   ]
  },
  {
   "cell_type": "markdown",
   "id": "a040f738",
   "metadata": {},
   "source": [
    "The RPKM and counts should be already normalized, so we load it in as a table. "
   ]
  },
  {
   "cell_type": "code",
   "execution_count": 14,
   "id": "f001e9a9",
   "metadata": {},
   "outputs": [],
   "source": [
    "expset <- (read.table(\"GSE181122_cRPKM_AND_COUNTS-araTha10-6.tab\",\n",
    "                      header=TRUE, sep = \"\\t\", row.names=1, as.is=TRUE))"
   ]
  },
  {
   "cell_type": "markdown",
   "id": "fa210f15",
   "metadata": {},
   "source": [
    "We can quickly run a few lines of code to view dimensions (24661r x 13c in this set) and column names."
   ]
  },
  {
   "cell_type": "code",
   "execution_count": 15,
   "id": "bd943e39",
   "metadata": {},
   "outputs": [
    {
     "data": {
      "text/html": [
       "<style>\n",
       ".list-inline {list-style: none; margin:0; padding: 0}\n",
       ".list-inline>li {display: inline-block}\n",
       ".list-inline>li:not(:last-child)::after {content: \"\\00b7\"; padding: 0 .5ex}\n",
       "</style>\n",
       "<ol class=list-inline><li>24661</li><li>13</li></ol>\n"
      ],
      "text/latex": [
       "\\begin{enumerate*}\n",
       "\\item 24661\n",
       "\\item 13\n",
       "\\end{enumerate*}\n"
      ],
      "text/markdown": [
       "1. 24661\n",
       "2. 13\n",
       "\n",
       "\n"
      ],
      "text/plain": [
       "[1] 24661    13"
      ]
     },
     "metadata": {},
     "output_type": "display_data"
    },
    {
     "data": {
      "text/html": [
       "<style>\n",
       ".list-inline {list-style: none; margin:0; padding: 0}\n",
       ".list-inline>li {display: inline-block}\n",
       ".list-inline>li:not(:last-child)::after {content: \"\\00b7\"; padding: 0 .5ex}\n",
       "</style>\n",
       "<ol class=list-inline><li>'NAME'</li><li>'scl30a_18hWL_a.cRPKM'</li><li>'scl30a_18hWL_a.Counts'</li><li>'scl30a_18hWL_b.cRPKM'</li><li>'scl30a_18hWL_b.Counts'</li><li>'scl30a_18hWL_c.cRPKM'</li><li>'scl30a_18hWL_c.Counts'</li><li>'WT_18hWL_a.cRPKM'</li><li>'WT_18hWL_a.Counts'</li><li>'WT_18hWL_b.cRPKM'</li><li>'WT_18hWL_b.Counts'</li><li>'WT_18hWL_c.cRPKM'</li><li>'WT_18hWL_c.Counts'</li></ol>\n"
      ],
      "text/latex": [
       "\\begin{enumerate*}\n",
       "\\item 'NAME'\n",
       "\\item 'scl30a\\_18hWL\\_a.cRPKM'\n",
       "\\item 'scl30a\\_18hWL\\_a.Counts'\n",
       "\\item 'scl30a\\_18hWL\\_b.cRPKM'\n",
       "\\item 'scl30a\\_18hWL\\_b.Counts'\n",
       "\\item 'scl30a\\_18hWL\\_c.cRPKM'\n",
       "\\item 'scl30a\\_18hWL\\_c.Counts'\n",
       "\\item 'WT\\_18hWL\\_a.cRPKM'\n",
       "\\item 'WT\\_18hWL\\_a.Counts'\n",
       "\\item 'WT\\_18hWL\\_b.cRPKM'\n",
       "\\item 'WT\\_18hWL\\_b.Counts'\n",
       "\\item 'WT\\_18hWL\\_c.cRPKM'\n",
       "\\item 'WT\\_18hWL\\_c.Counts'\n",
       "\\end{enumerate*}\n"
      ],
      "text/markdown": [
       "1. 'NAME'\n",
       "2. 'scl30a_18hWL_a.cRPKM'\n",
       "3. 'scl30a_18hWL_a.Counts'\n",
       "4. 'scl30a_18hWL_b.cRPKM'\n",
       "5. 'scl30a_18hWL_b.Counts'\n",
       "6. 'scl30a_18hWL_c.cRPKM'\n",
       "7. 'scl30a_18hWL_c.Counts'\n",
       "8. 'WT_18hWL_a.cRPKM'\n",
       "9. 'WT_18hWL_a.Counts'\n",
       "10. 'WT_18hWL_b.cRPKM'\n",
       "11. 'WT_18hWL_b.Counts'\n",
       "12. 'WT_18hWL_c.cRPKM'\n",
       "13. 'WT_18hWL_c.Counts'\n",
       "\n",
       "\n"
      ],
      "text/plain": [
       " [1] \"NAME\"                  \"scl30a_18hWL_a.cRPKM\"  \"scl30a_18hWL_a.Counts\"\n",
       " [4] \"scl30a_18hWL_b.cRPKM\"  \"scl30a_18hWL_b.Counts\" \"scl30a_18hWL_c.cRPKM\" \n",
       " [7] \"scl30a_18hWL_c.Counts\" \"WT_18hWL_a.cRPKM\"      \"WT_18hWL_a.Counts\"    \n",
       "[10] \"WT_18hWL_b.cRPKM\"      \"WT_18hWL_b.Counts\"     \"WT_18hWL_c.cRPKM\"     \n",
       "[13] \"WT_18hWL_c.Counts\"    "
      ]
     },
     "metadata": {},
     "output_type": "display_data"
    }
   ],
   "source": [
    "dim(expset)\n",
    "colnames(expset)"
   ]
  },
  {
   "cell_type": "markdown",
   "id": "26e29f0f",
   "metadata": {},
   "source": [
    "Since the expression values are our primary focus, I subset these columns (and the gene names as well). I also removed any rows with N/A values. "
   ]
  },
  {
   "cell_type": "code",
   "execution_count": 16,
   "id": "658a59bd",
   "metadata": {},
   "outputs": [],
   "source": [
    "count_removal <- expset[,c(1,2,4,6,8,10,12)]\n",
    "exsubset <- na.omit(count_removal)"
   ]
  },
  {
   "cell_type": "markdown",
   "id": "2e1b4476",
   "metadata": {},
   "source": [
    "Filtering for high gene expression (I set the threshold higher because I'm running this on a low-end laptop). "
   ]
  },
  {
   "cell_type": "code",
   "execution_count": 17,
   "id": "50cddfe8",
   "metadata": {},
   "outputs": [],
   "source": [
    "numvalues <- exsubset[rowSums(exsubset[,-1]) > 8000,]"
   ]
  },
  {
   "cell_type": "markdown",
   "id": "12554616",
   "metadata": {},
   "source": [
    "Simple heatmap: "
   ]
  },
  {
   "cell_type": "code",
   "execution_count": 18,
   "id": "c027d8cf",
   "metadata": {},
   "outputs": [
    {
     "data": {
      "image/png": "[encoded data removed]",
      "text/plain": [
       "plot without title"
      ]
     },
     "metadata": {
      "image/png": {
       "height": 420,
       "width": 420
      }
     },
     "output_type": "display_data"
    }
   ],
   "source": [
    "pheatmap(numvalues[,-1], labels_row = numvalues[,1])"
   ]
  },
  {
   "cell_type": "code",
   "execution_count": null,
   "id": "37786051",
   "metadata": {},
   "outputs": [],
   "source": []
  }
 ],
 "metadata": {
  "kernelspec": {
   "display_name": "R",
   "language": "R",
   "name": "ir"
  },
  "language_info": {
   "codemirror_mode": "r",
   "file_extension": ".r",
   "mimetype": "text/x-r-source",
   "name": "R",
   "pygments_lexer": "r",
   "version": "4.1.1"
  }
 },
 "nbformat": 4,
 "nbformat_minor": 5
}
